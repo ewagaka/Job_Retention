{
 "cells": [
  {
   "cell_type": "code",
   "execution_count": 1,
   "id": "d4381eca",
   "metadata": {},
   "outputs": [],
   "source": [
    "import pandas as pd\n",
    "import matplotlib.pyplot as plt\n",
    "import numpy as np\n",
    "from sklearn.model_selection import train_test_split\n",
    "from sklearn.linear_model import LogisticRegression\n",
    "from sklearn.tree import DecisionTreeClassifier\n",
    "from sklearn.metrics import accuracy_score, f1_score, recall_score"
   ]
  },
  {
   "cell_type": "code",
   "execution_count": 2,
   "id": "ea627192",
   "metadata": {},
   "outputs": [],
   "source": [
    "df1 = pd.read_csv('https://raw.githubusercontent.com/BasiaSDA/projekt-klasyfikacja/main/df1.csv')\n",
    "df2 = pd.read_csv('https://raw.githubusercontent.com/BasiaSDA/projekt-klasyfikacja/main/df2.csv')\n",
    "df=df1.merge(df2)"
   ]
  },
  {
   "cell_type": "code",
   "execution_count": 3,
   "id": "3199e979",
   "metadata": {},
   "outputs": [
    {
     "name": "stdout",
     "output_type": "stream",
     "text": [
      "<class 'pandas.core.frame.DataFrame'>\n",
      "RangeIndex: 1755 entries, 0 to 1754\n",
      "Data columns (total 32 columns):\n",
      " #   Column                    Non-Null Count  Dtype  \n",
      "---  ------                    --------------  -----  \n",
      " 0   Age                       1755 non-null   float64\n",
      " 1   BusinessTravel            1755 non-null   object \n",
      " 2   DailyRate                 1755 non-null   float64\n",
      " 3   Department                1755 non-null   object \n",
      " 4   DistanceFromHome          1755 non-null   float64\n",
      " 5   Education                 1755 non-null   float64\n",
      " 6   EducationField            1755 non-null   object \n",
      " 7   EnvironmentSatisfaction   1755 non-null   float64\n",
      " 8   Gender                    1755 non-null   object \n",
      " 9   HourlyRate                1755 non-null   float64\n",
      " 10  JobInvolvement            1755 non-null   float64\n",
      " 11  JobLevel                  1755 non-null   float64\n",
      " 12  JobRole                   1755 non-null   object \n",
      " 13  JobSatisfaction           1755 non-null   float64\n",
      " 14  MaritalStatus             1755 non-null   object \n",
      " 15  MonthlyIncome             1755 non-null   float64\n",
      " 16  MonthlyRate               1755 non-null   float64\n",
      " 17  NumCompaniesWorked        1755 non-null   float64\n",
      " 18  OverTime                  1755 non-null   object \n",
      " 19  PercentSalaryHike         1755 non-null   float64\n",
      " 20  PerformanceRating         1755 non-null   float64\n",
      " 21  RelationshipSatisfaction  1755 non-null   float64\n",
      " 22  StockOptionLevel          1755 non-null   float64\n",
      " 23  TotalWorkingYears         1755 non-null   float64\n",
      " 24  TrainingTimesLastYear     1755 non-null   float64\n",
      " 25  WorkLifeBalance           1755 non-null   float64\n",
      " 26  YearsAtCompany            1755 non-null   float64\n",
      " 27  YearsInCurrentRole        1755 non-null   float64\n",
      " 28  YearsSinceLastPromotion   1755 non-null   float64\n",
      " 29  YearsWithCurrManager      1755 non-null   float64\n",
      " 30  Attrition                 1755 non-null   object \n",
      " 31  YearlyIncome              1755 non-null   float64\n",
      "dtypes: float64(24), object(8)\n",
      "memory usage: 438.9+ KB\n"
     ]
    }
   ],
   "source": [
    "df.drop(['Over18', 'StandardHours', 'EmployeeCount'], axis=1, inplace = True)\n",
    "df = df[(df['TotalWorkingYears']<60) & (df['Age']<80) & (df['DistanceFromHome']<100) & (df['YearsAtCompany']<60) & (df['YearsInCurrentRole']<60) & (df['YearsSinceLastPromotion']<60) & (df['YearsWithCurrManager']<60)]\n",
    "df = df.dropna()\n",
    "df = df.reset_index(drop=True)\n",
    "df = df.iloc[:, 1:].drop_duplicates().reset_index(drop=True)\n",
    "df.info()"
   ]
  },
  {
   "cell_type": "code",
   "execution_count": 6,
   "id": "0080950c",
   "metadata": {},
   "outputs": [
    {
     "name": "stdout",
     "output_type": "stream",
     "text": [
      "<class 'pandas.core.frame.DataFrame'>\n",
      "RangeIndex: 1755 entries, 0 to 1754\n",
      "Data columns (total 23 columns):\n",
      " #   Column                           Non-Null Count  Dtype  \n",
      "---  ------                           --------------  -----  \n",
      " 0   Age                              1755 non-null   float64\n",
      " 1   DistanceFromHome                 1755 non-null   float64\n",
      " 2   EnvironmentSatisfaction          1755 non-null   float64\n",
      " 3   JobInvolvement                   1755 non-null   float64\n",
      " 4   JobLevel                         1755 non-null   float64\n",
      " 5   JobSatisfaction                  1755 non-null   float64\n",
      " 6   MonthlyIncome                    1755 non-null   float64\n",
      " 7   NumCompaniesWorked               1755 non-null   float64\n",
      " 8   PercentSalaryHike                1755 non-null   float64\n",
      " 9   StockOptionLevel                 1755 non-null   float64\n",
      " 10  YearsAtCompany                   1755 non-null   float64\n",
      " 11  YearsInCurrentRole               1755 non-null   float64\n",
      " 12  YearsWithCurrManager             1755 non-null   float64\n",
      " 13  EducationField_Human Resources   1755 non-null   uint8  \n",
      " 14  EducationField_Life Sciences     1755 non-null   uint8  \n",
      " 15  EducationField_Marketing         1755 non-null   uint8  \n",
      " 16  EducationField_Medical           1755 non-null   uint8  \n",
      " 17  EducationField_Other             1755 non-null   uint8  \n",
      " 18  EducationField_Technical Degree  1755 non-null   uint8  \n",
      " 19  OverTime_No                      1755 non-null   uint8  \n",
      " 20  OverTime_Yes                     1755 non-null   uint8  \n",
      " 21  Attrition_No                     1755 non-null   uint8  \n",
      " 22  Attrition_Yes                    1755 non-null   uint8  \n",
      "dtypes: float64(13), uint8(10)\n",
      "memory usage: 195.5 KB\n"
     ]
    }
   ],
   "source": [
    "df_copy = df[['Age', 'DistanceFromHome', 'EducationField',  'EnvironmentSatisfaction', 'JobInvolvement',  'JobLevel', \n",
    "                  'JobSatisfaction','MonthlyIncome', 'NumCompaniesWorked', 'OverTime', 'PercentSalaryHike', 'StockOptionLevel',\n",
    "                 'YearsAtCompany', 'YearsInCurrentRole', 'YearsWithCurrManager', 'Attrition']]\n",
    "df_copy = pd.get_dummies(df_copy, columns = ['EducationField', 'OverTime', 'Attrition'])\n",
    "df_copy.info()"
   ]
  },
  {
   "cell_type": "code",
   "execution_count": 8,
   "id": "882b4eef",
   "metadata": {},
   "outputs": [],
   "source": [
    "# Utworzenie zbioru testowego i treningowego\n",
    "y = df_copy['Attrition_Yes'].values\n",
    "df_copy1=df_copy.drop(['Attrition_Yes','Attrition_No'], axis=1)\n",
    "X = df_copy1.values\n",
    "\n",
    "X_train, X_test, y_train, y_test = train_test_split(\n",
    "    X, y, test_size=0.2, random_state=0)"
   ]
  },
  {
   "cell_type": "code",
   "execution_count": 9,
   "id": "f7bfb455",
   "metadata": {},
   "outputs": [],
   "source": [
    "def calculate_metrics (X_train, X_test, y_train, y_test, model):\n",
    "    y_pred_train = model.predict(X_train)\n",
    "    y_pred_test = model.predict(X_test)\n",
    "\n",
    "    acc_train = accuracy_score(y_train, y_pred_train)\n",
    "    acc_test = accuracy_score(y_test, y_pred_test)\n",
    "\n",
    "    F1_train = f1_score(y_train, y_pred_train)\n",
    "    F1_test = f1_score(y_test, y_pred_test)\n",
    "\n",
    "    recall_train = recall_score(y_train, y_pred_train)\n",
    "    recall_test = recall_score(y_test, y_pred_test)\n",
    "    wyniki = pd.DataFrame({'Accuracy':[acc_train, acc_test],\n",
    "                      'F1':[F1_train, F1_test],\n",
    "                      'Recall':[recall_train, recall_test]})\n",
    "    wyniki.index=['train', 'test']\n",
    "    return  wyniki"
   ]
  },
  {
   "cell_type": "code",
   "execution_count": 10,
   "id": "4dbbcac6",
   "metadata": {},
   "outputs": [
    {
     "name": "stdout",
     "output_type": "stream",
     "text": [
      "       Accuracy        F1    Recall\n",
      "train  0.673789  0.041841  0.021598\n",
      "test   0.666667  0.048780  0.025000\n",
      "       Accuracy        F1    Recall\n",
      "train  0.824786  0.652542  0.498920\n",
      "test   0.447293  0.170940  0.166667\n",
      "       Accuracy        F1    Recall\n",
      "train  0.695157  0.372434  0.274298\n",
      "test   0.555556  0.161290  0.125000\n",
      "       Accuracy   F1  Recall\n",
      "train  0.670228  0.0     0.0\n",
      "test   0.658120  0.0     0.0\n"
     ]
    }
   ],
   "source": [
    "#regresja logistyczna\n",
    "lr = LogisticRegression(max_iter=1000, random_state=30)\n",
    "lr.fit(X_train, y_train)\n",
    "\n",
    "print(calculate_metrics (X_train, X_test, y_train, y_test, lr))\n",
    "\n",
    "#decision tree\n",
    "clf = DecisionTreeClassifier(min_samples_split=4)\n",
    "clf.fit(X_train, y_train)\n",
    "\n",
    "print(calculate_metrics (X_train, X_test, y_train, y_test, clf))\n",
    "\n",
    "#knn\n",
    "from sklearn.neighbors import KNeighborsClassifier\n",
    "knn = KNeighborsClassifier(n_neighbors=5, metric='chebyshev')\n",
    "knn.fit(X_train, y_train)\n",
    "\n",
    "print(calculate_metrics (X_train, X_test, y_train, y_test, knn))\n",
    "\n",
    "#svm\n",
    "from sklearn.svm import SVC\n",
    "\n",
    "svm = SVC()\n",
    "svm.fit(X_train,y_train)\n",
    "\n",
    "print(calculate_metrics (X_train, X_test, y_train, y_test, svm))"
   ]
  },
  {
   "cell_type": "code",
   "execution_count": 11,
   "id": "833d22d7",
   "metadata": {},
   "outputs": [
    {
     "name": "stdout",
     "output_type": "stream",
     "text": [
      "       Accuracy        F1    Recall\n",
      "train  0.677077  0.118971  0.065603\n",
      "test   0.689655  0.100000  0.052632\n",
      "       Accuracy        F1    Recall\n",
      "train  0.783736  0.531290  0.368794\n",
      "test   0.500000  0.121212  0.105263\n",
      "       Accuracy        F1    Recall\n",
      "train  0.694755  0.314815  0.210993\n",
      "test   0.534483  0.000000  0.000000\n",
      "       Accuracy   F1  Recall\n",
      "train  0.667649  0.0     0.0\n",
      "test   0.672414  0.0     0.0\n"
     ]
    }
   ],
   "source": [
    "# Kroswalidacja stratyfikowana\n",
    "from sklearn.model_selection import RepeatedStratifiedKFold\n",
    "cv = RepeatedStratifiedKFold(n_splits=30, n_repeats=20, random_state=42)\n",
    "for train_index, test_index in cv.split(X, y):\n",
    "    X_train, X_test = X[train_index], X[test_index]\n",
    "    y_train, y_test = y[train_index], y[test_index]\n",
    "    \n",
    "#regresja logistyczna\n",
    "lr = LogisticRegression(max_iter=100000, random_state=42)\n",
    "lr.fit(X_train, y_train)\n",
    "\n",
    "print(calculate_metrics (X_train, X_test, y_train, y_test, lr))\n",
    "\n",
    "#decision tree\n",
    "clf = DecisionTreeClassifier(min_samples_split=4)\n",
    "clf.fit(X_train, y_train)\n",
    "\n",
    "print(calculate_metrics (X_train, X_test, y_train, y_test, clf))\n",
    "\n",
    "#knn\n",
    "from sklearn.neighbors import KNeighborsClassifier\n",
    "knn = KNeighborsClassifier(n_neighbors=5, metric='chebyshev')\n",
    "knn.fit(X_train, y_train)\n",
    "\n",
    "print(calculate_metrics (X_train, X_test, y_train, y_test, knn))\n",
    "\n",
    "#svm\n",
    "from sklearn.svm import SVC\n",
    "\n",
    "svm = SVC()\n",
    "svm.fit(X_train,y_train)\n",
    "\n",
    "print(calculate_metrics (X_train, X_test, y_train, y_test, svm))"
   ]
  },
  {
   "cell_type": "code",
   "execution_count": 12,
   "id": "4df22770",
   "metadata": {},
   "outputs": [
    {
     "name": "stdout",
     "output_type": "stream",
     "text": [
      "       Accuracy        F1    Recall\n",
      "train  0.671463  0.061644  0.032491\n",
      "test   0.689655  0.129032  0.068966\n",
      "       Accuracy        F1    Recall\n",
      "train  0.793765  0.567839  0.407942\n",
      "test   0.436782  0.109091  0.103448\n",
      "       Accuracy        F1    Recall\n",
      "train  0.693645  0.324967  0.222022\n",
      "test   0.540230  0.047619  0.034483\n",
      "       Accuracy   F1  Recall\n",
      "train  0.667866  0.0     0.0\n",
      "test   0.666667  0.0     0.0\n"
     ]
    }
   ],
   "source": [
    "# K-fold\n",
    "from sklearn.model_selection import KFold\n",
    "kf = KFold(n_splits=20, shuffle=True, random_state=42)\n",
    "y = df_copy['Attrition_Yes']\n",
    "X = df_copy.drop(['Attrition_Yes','Attrition_No'], axis=1)\n",
    "for train, test in kf.split(X, y):\n",
    "    X_train, y_train = X.iloc[train], y.iloc[train]\n",
    "    X_test, y_test = X.iloc[test], y.iloc[test]\n",
    "\n",
    "#regresja logistyczna\n",
    "lr = LogisticRegression(max_iter=100000, random_state=42)\n",
    "lr.fit(X_train, y_train)\n",
    "\n",
    "print(calculate_metrics (X_train, X_test, y_train, y_test, lr))\n",
    "\n",
    "#decision tree\n",
    "clf = DecisionTreeClassifier(min_samples_split=4)\n",
    "clf.fit(X_train, y_train)\n",
    "\n",
    "print(calculate_metrics (X_train, X_test, y_train, y_test, clf))\n",
    "\n",
    "#knn\n",
    "from sklearn.neighbors import KNeighborsClassifier\n",
    "knn = KNeighborsClassifier(n_neighbors=5, metric='chebyshev')\n",
    "knn.fit(X_train, y_train)\n",
    "\n",
    "print(calculate_metrics (X_train, X_test, y_train, y_test, knn))\n",
    "\n",
    "#svm\n",
    "from sklearn.svm import SVC\n",
    "\n",
    "svm = SVC()\n",
    "svm.fit(X_train,y_train)\n",
    "\n",
    "print(calculate_metrics (X_train, X_test, y_train, y_test, svm))"
   ]
  },
  {
   "cell_type": "code",
   "execution_count": 13,
   "id": "268d0987",
   "metadata": {},
   "outputs": [
    {
     "name": "stdout",
     "output_type": "stream",
     "text": [
      "<class 'pandas.core.frame.DataFrame'>\n",
      "RangeIndex: 1755 entries, 0 to 1754\n",
      "Data columns (total 8 columns):\n",
      " #   Column            Non-Null Count  Dtype  \n",
      "---  ------            --------------  -----  \n",
      " 0   Age               1755 non-null   float64\n",
      " 1   JobLevel          1755 non-null   float64\n",
      " 2   MonthlyIncome     1755 non-null   float64\n",
      " 3   StockOptionLevel  1755 non-null   float64\n",
      " 4   OverTime_No       1755 non-null   uint8  \n",
      " 5   OverTime_Yes      1755 non-null   uint8  \n",
      " 6   Attrition_No      1755 non-null   uint8  \n",
      " 7   Attrition_Yes     1755 non-null   uint8  \n",
      "dtypes: float64(4), uint8(4)\n",
      "memory usage: 61.8 KB\n"
     ]
    }
   ],
   "source": [
    "df_copya = df[[\"Age\", 'JobLevel', 'MonthlyIncome', 'OverTime', 'StockOptionLevel', 'Attrition']]\n",
    "df_copya = pd.get_dummies(df_copya, columns = ['OverTime', 'Attrition'])\n",
    "df_copya.info()"
   ]
  },
  {
   "cell_type": "code",
   "execution_count": 14,
   "id": "7cf34baf",
   "metadata": {},
   "outputs": [],
   "source": [
    "# Utworzenie zbioru testowego i treningowego\n",
    "y = df_copya['Attrition_Yes'].values\n",
    "df_copy1=df_copya.drop(['Attrition_Yes','Attrition_No'], axis=1)\n",
    "X = df_copy1.values\n",
    "\n",
    "X_train, X_test, y_train, y_test = train_test_split(\n",
    "    X, y, test_size=0.2, random_state=0)"
   ]
  },
  {
   "cell_type": "code",
   "execution_count": 15,
   "id": "1ddde340",
   "metadata": {},
   "outputs": [
    {
     "name": "stdout",
     "output_type": "stream",
     "text": [
      "       Accuracy   F1  Recall\n",
      "train  0.670228  0.0     0.0\n",
      "test   0.658120  0.0     0.0\n",
      "       Accuracy        F1    Recall\n",
      "train  0.820513  0.652893  0.511879\n",
      "test   0.467236  0.183406  0.175000\n",
      "       Accuracy        F1    Recall\n",
      "train  0.688034  0.352071  0.257019\n",
      "test   0.572650  0.175824  0.133333\n",
      "       Accuracy   F1  Recall\n",
      "train  0.670228  0.0     0.0\n",
      "test   0.658120  0.0     0.0\n"
     ]
    }
   ],
   "source": [
    "#regresja logistyczna\n",
    "lr = LogisticRegression(max_iter=1000, random_state=30)\n",
    "lr.fit(X_train, y_train)\n",
    "\n",
    "print(calculate_metrics (X_train, X_test, y_train, y_test, lr))\n",
    "\n",
    "#decision tree\n",
    "clf = DecisionTreeClassifier(min_samples_split=4)\n",
    "clf.fit(X_train, y_train)\n",
    "\n",
    "print(calculate_metrics (X_train, X_test, y_train, y_test, clf))\n",
    "\n",
    "#knn\n",
    "from sklearn.neighbors import KNeighborsClassifier\n",
    "knn = KNeighborsClassifier(n_neighbors=5, metric='chebyshev')\n",
    "knn.fit(X_train, y_train)\n",
    "\n",
    "print(calculate_metrics (X_train, X_test, y_train, y_test, knn))\n",
    "\n",
    "#svm\n",
    "from sklearn.svm import SVC\n",
    "\n",
    "svm = SVC()\n",
    "svm.fit(X_train,y_train)\n",
    "\n",
    "print(calculate_metrics (X_train, X_test, y_train, y_test, svm))"
   ]
  },
  {
   "cell_type": "code",
   "execution_count": 16,
   "id": "94a49618",
   "metadata": {},
   "outputs": [
    {
     "name": "stdout",
     "output_type": "stream",
     "text": [
      "       Accuracy       F1    Recall\n",
      "train  0.668238  0.00354  0.001773\n",
      "test   0.672414  0.00000  0.000000\n",
      "       Accuracy        F1    Recall\n",
      "train  0.782557  0.543881  0.390071\n",
      "test   0.500000  0.000000  0.000000\n",
      "       Accuracy        F1    Recall\n",
      "train  0.696523  0.348925  0.244681\n",
      "test   0.568966  0.074074  0.052632\n",
      "       Accuracy   F1  Recall\n",
      "train  0.667649  0.0     0.0\n",
      "test   0.672414  0.0     0.0\n"
     ]
    }
   ],
   "source": [
    "# Kroswalidacja stratyfikowana\n",
    "from sklearn.model_selection import RepeatedStratifiedKFold\n",
    "cv = RepeatedStratifiedKFold(n_splits=30, n_repeats=20, random_state=42)\n",
    "for train_index, test_index in cv.split(X, y):\n",
    "    X_train, X_test = X[train_index], X[test_index]\n",
    "    y_train, y_test = y[train_index], y[test_index]\n",
    "    \n",
    "#regresja logistyczna\n",
    "lr = LogisticRegression(max_iter=100000, random_state=42)\n",
    "lr.fit(X_train, y_train)\n",
    "\n",
    "print(calculate_metrics (X_train, X_test, y_train, y_test, lr))\n",
    "\n",
    "#decision tree\n",
    "clf = DecisionTreeClassifier(min_samples_split=4)\n",
    "clf.fit(X_train, y_train)\n",
    "\n",
    "print(calculate_metrics (X_train, X_test, y_train, y_test, clf))\n",
    "\n",
    "#knn\n",
    "from sklearn.neighbors import KNeighborsClassifier\n",
    "knn = KNeighborsClassifier(n_neighbors=5, metric='chebyshev')\n",
    "knn.fit(X_train, y_train)\n",
    "\n",
    "print(calculate_metrics (X_train, X_test, y_train, y_test, knn))\n",
    "\n",
    "#svm\n",
    "from sklearn.svm import SVC\n",
    "\n",
    "svm = SVC()\n",
    "svm.fit(X_train,y_train)\n",
    "\n",
    "print(calculate_metrics (X_train, X_test, y_train, y_test, svm))"
   ]
  },
  {
   "cell_type": "code",
   "execution_count": 17,
   "id": "37c421f3",
   "metadata": {},
   "outputs": [
    {
     "name": "stdout",
     "output_type": "stream",
     "text": [
      "       Accuracy        F1    Recall\n",
      "train  0.671463  0.061644  0.032491\n",
      "test   0.689655  0.129032  0.068966\n",
      "       Accuracy        F1    Recall\n",
      "train  0.793765  0.567839  0.407942\n",
      "test   0.436782  0.109091  0.103448\n",
      "       Accuracy        F1    Recall\n",
      "train  0.693645  0.324967  0.222022\n",
      "test   0.540230  0.047619  0.034483\n",
      "       Accuracy   F1  Recall\n",
      "train  0.667866  0.0     0.0\n",
      "test   0.666667  0.0     0.0\n"
     ]
    }
   ],
   "source": [
    "# K-fold\n",
    "from sklearn.model_selection import KFold\n",
    "kf = KFold(n_splits=20, shuffle=True, random_state=42)\n",
    "y = df_copy['Attrition_Yes']\n",
    "X = df_copy.drop(['Attrition_Yes','Attrition_No'], axis=1)\n",
    "for train, test in kf.split(X, y):\n",
    "    X_train, y_train = X.iloc[train], y.iloc[train]\n",
    "    X_test, y_test = X.iloc[test], y.iloc[test]\n",
    "\n",
    "#regresja logistyczna\n",
    "lr = LogisticRegression(max_iter=100000, random_state=42)\n",
    "lr.fit(X_train, y_train)\n",
    "\n",
    "print(calculate_metrics (X_train, X_test, y_train, y_test, lr))\n",
    "\n",
    "#decision tree\n",
    "clf = DecisionTreeClassifier(min_samples_split=4)\n",
    "clf.fit(X_train, y_train)\n",
    "\n",
    "print(calculate_metrics (X_train, X_test, y_train, y_test, clf))\n",
    "\n",
    "#knn\n",
    "from sklearn.neighbors import KNeighborsClassifier\n",
    "knn = KNeighborsClassifier(n_neighbors=5, metric='chebyshev')\n",
    "knn.fit(X_train, y_train)\n",
    "\n",
    "print(calculate_metrics (X_train, X_test, y_train, y_test, knn))\n",
    "\n",
    "#svm\n",
    "from sklearn.svm import SVC\n",
    "\n",
    "svm = SVC()\n",
    "svm.fit(X_train,y_train)\n",
    "\n",
    "print(calculate_metrics (X_train, X_test, y_train, y_test, svm))"
   ]
  },
  {
   "cell_type": "code",
   "execution_count": 18,
   "id": "38a6c6ab",
   "metadata": {},
   "outputs": [
    {
     "name": "stdout",
     "output_type": "stream",
     "text": [
      "<class 'pandas.core.frame.DataFrame'>\n",
      "RangeIndex: 1755 entries, 0 to 1754\n",
      "Data columns (total 6 columns):\n",
      " #   Column            Non-Null Count  Dtype  \n",
      "---  ------            --------------  -----  \n",
      " 0   JobLevel          1755 non-null   float64\n",
      " 1   StockOptionLevel  1755 non-null   float64\n",
      " 2   OverTime_No       1755 non-null   uint8  \n",
      " 3   OverTime_Yes      1755 non-null   uint8  \n",
      " 4   Attrition_No      1755 non-null   uint8  \n",
      " 5   Attrition_Yes     1755 non-null   uint8  \n",
      "dtypes: float64(2), uint8(4)\n",
      "memory usage: 34.4 KB\n"
     ]
    }
   ],
   "source": [
    "df_copyb = df[['JobLevel', 'OverTime', 'StockOptionLevel', 'Attrition']]\n",
    "df_copyb = pd.get_dummies(df_copyb, columns = ['OverTime', 'Attrition'])\n",
    "df_copyb.info()"
   ]
  },
  {
   "cell_type": "code",
   "execution_count": 19,
   "id": "cdb5e035",
   "metadata": {},
   "outputs": [],
   "source": [
    "# Utworzenie zbioru testowego i treningowego\n",
    "y = df_copya['Attrition_Yes'].values\n",
    "df_copy1=df_copya.drop(['Attrition_Yes','Attrition_No'], axis=1)\n",
    "X = df_copy1.values\n",
    "\n",
    "X_train, X_test, y_train, y_test = train_test_split(\n",
    "    X, y, test_size=0.2, random_state=0)"
   ]
  },
  {
   "cell_type": "code",
   "execution_count": 20,
   "id": "60cec2e0",
   "metadata": {},
   "outputs": [
    {
     "name": "stdout",
     "output_type": "stream",
     "text": [
      "       Accuracy   F1  Recall\n",
      "train  0.670228  0.0     0.0\n",
      "test   0.658120  0.0     0.0\n",
      "       Accuracy        F1    Recall\n",
      "train  0.819801  0.654843  0.518359\n",
      "test   0.455840  0.173160  0.166667\n",
      "       Accuracy        F1    Recall\n",
      "train  0.688034  0.352071  0.257019\n",
      "test   0.572650  0.175824  0.133333\n",
      "       Accuracy   F1  Recall\n",
      "train  0.670228  0.0     0.0\n",
      "test   0.658120  0.0     0.0\n"
     ]
    }
   ],
   "source": [
    "#regresja logistyczna\n",
    "lr = LogisticRegression(max_iter=1000, random_state=30)\n",
    "lr.fit(X_train, y_train)\n",
    "\n",
    "print(calculate_metrics (X_train, X_test, y_train, y_test, lr))\n",
    "\n",
    "#decision tree\n",
    "clf = DecisionTreeClassifier(min_samples_split=4)\n",
    "clf.fit(X_train, y_train)\n",
    "\n",
    "print(calculate_metrics (X_train, X_test, y_train, y_test, clf))\n",
    "\n",
    "#knn\n",
    "from sklearn.neighbors import KNeighborsClassifier\n",
    "knn = KNeighborsClassifier(n_neighbors=5, metric='chebyshev')\n",
    "knn.fit(X_train, y_train)\n",
    "\n",
    "print(calculate_metrics (X_train, X_test, y_train, y_test, knn))\n",
    "\n",
    "#svm\n",
    "from sklearn.svm import SVC\n",
    "\n",
    "svm = SVC()\n",
    "svm.fit(X_train,y_train)\n",
    "\n",
    "print(calculate_metrics (X_train, X_test, y_train, y_test, svm))"
   ]
  },
  {
   "cell_type": "code",
   "execution_count": 21,
   "id": "8cbad79a",
   "metadata": {},
   "outputs": [
    {
     "name": "stdout",
     "output_type": "stream",
     "text": [
      "       Accuracy       F1    Recall\n",
      "train  0.668238  0.00354  0.001773\n",
      "test   0.672414  0.00000  0.000000\n",
      "       Accuracy        F1    Recall\n",
      "train  0.782557  0.543881  0.390071\n",
      "test   0.465517  0.000000  0.000000\n",
      "       Accuracy        F1    Recall\n",
      "train  0.696523  0.348925  0.244681\n",
      "test   0.568966  0.074074  0.052632\n",
      "       Accuracy   F1  Recall\n",
      "train  0.667649  0.0     0.0\n",
      "test   0.672414  0.0     0.0\n"
     ]
    }
   ],
   "source": [
    "# Kroswalidacja stratyfikowana\n",
    "from sklearn.model_selection import RepeatedStratifiedKFold\n",
    "cv = RepeatedStratifiedKFold(n_splits=30, n_repeats=20, random_state=42)\n",
    "for train_index, test_index in cv.split(X, y):\n",
    "    X_train, X_test = X[train_index], X[test_index]\n",
    "    y_train, y_test = y[train_index], y[test_index]\n",
    "    \n",
    "#regresja logistyczna\n",
    "lr = LogisticRegression(max_iter=100000, random_state=42)\n",
    "lr.fit(X_train, y_train)\n",
    "\n",
    "print(calculate_metrics (X_train, X_test, y_train, y_test, lr))\n",
    "\n",
    "#decision tree\n",
    "clf = DecisionTreeClassifier(min_samples_split=4)\n",
    "clf.fit(X_train, y_train)\n",
    "\n",
    "print(calculate_metrics (X_train, X_test, y_train, y_test, clf))\n",
    "\n",
    "#knn\n",
    "from sklearn.neighbors import KNeighborsClassifier\n",
    "knn = KNeighborsClassifier(n_neighbors=5, metric='chebyshev')\n",
    "knn.fit(X_train, y_train)\n",
    "\n",
    "print(calculate_metrics (X_train, X_test, y_train, y_test, knn))\n",
    "\n",
    "#svm\n",
    "from sklearn.svm import SVC\n",
    "\n",
    "svm = SVC()\n",
    "svm.fit(X_train,y_train)\n",
    "\n",
    "print(calculate_metrics (X_train, X_test, y_train, y_test, svm))"
   ]
  },
  {
   "cell_type": "code",
   "execution_count": 22,
   "id": "0cda84f1",
   "metadata": {},
   "outputs": [
    {
     "name": "stdout",
     "output_type": "stream",
     "text": [
      "       Accuracy        F1    Recall\n",
      "train  0.671463  0.061644  0.032491\n",
      "test   0.689655  0.129032  0.068966\n",
      "       Accuracy        F1    Recall\n",
      "train  0.793765  0.566751  0.406137\n",
      "test   0.436782  0.109091  0.103448\n",
      "       Accuracy        F1    Recall\n",
      "train  0.693645  0.324967  0.222022\n",
      "test   0.540230  0.047619  0.034483\n",
      "       Accuracy   F1  Recall\n",
      "train  0.667866  0.0     0.0\n",
      "test   0.666667  0.0     0.0\n"
     ]
    }
   ],
   "source": [
    "# K-fold\n",
    "from sklearn.model_selection import KFold\n",
    "kf = KFold(n_splits=20, shuffle=True, random_state=42)\n",
    "y = df_copy['Attrition_Yes']\n",
    "X = df_copy.drop(['Attrition_Yes','Attrition_No'], axis=1)\n",
    "for train, test in kf.split(X, y):\n",
    "    X_train, y_train = X.iloc[train], y.iloc[train]\n",
    "    X_test, y_test = X.iloc[test], y.iloc[test]\n",
    "\n",
    "#regresja logistyczna\n",
    "lr = LogisticRegression(max_iter=100000, random_state=42)\n",
    "lr.fit(X_train, y_train)\n",
    "\n",
    "print(calculate_metrics (X_train, X_test, y_train, y_test, lr))\n",
    "\n",
    "#decision tree\n",
    "clf = DecisionTreeClassifier(min_samples_split=4)\n",
    "clf.fit(X_train, y_train)\n",
    "\n",
    "print(calculate_metrics (X_train, X_test, y_train, y_test, clf))\n",
    "\n",
    "#knn\n",
    "from sklearn.neighbors import KNeighborsClassifier\n",
    "knn = KNeighborsClassifier(n_neighbors=5, metric='chebyshev')\n",
    "knn.fit(X_train, y_train)\n",
    "\n",
    "print(calculate_metrics (X_train, X_test, y_train, y_test, knn))\n",
    "\n",
    "#svm\n",
    "from sklearn.svm import SVC\n",
    "\n",
    "svm = SVC()\n",
    "svm.fit(X_train,y_train)\n",
    "\n",
    "print(calculate_metrics (X_train, X_test, y_train, y_test, svm))"
   ]
  },
  {
   "cell_type": "code",
   "execution_count": null,
   "id": "ad4ca0f1",
   "metadata": {},
   "outputs": [],
   "source": []
  }
 ],
 "metadata": {
  "kernelspec": {
   "display_name": "Python 3 (ipykernel)",
   "language": "python",
   "name": "python3"
  },
  "language_info": {
   "codemirror_mode": {
    "name": "ipython",
    "version": 3
   },
   "file_extension": ".py",
   "mimetype": "text/x-python",
   "name": "python",
   "nbconvert_exporter": "python",
   "pygments_lexer": "ipython3",
   "version": "3.10.4"
  }
 },
 "nbformat": 4,
 "nbformat_minor": 5
}
